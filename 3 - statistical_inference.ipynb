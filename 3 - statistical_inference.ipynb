{
 "cells": [
  {
   "cell_type": "markdown",
   "id": "da4d6adf",
   "metadata": {},
   "source": [
    "# Load Data"
   ]
  },
  {
   "cell_type": "code",
   "execution_count": 1,
   "id": "dd4b5d5c",
   "metadata": {},
   "outputs": [],
   "source": [
    "import pandas as pd\n",
    "import numpy as np\n",
    "import math\n",
    "from sklearn.pipeline import Pipeline\n",
    "from sklearn.model_selection import LeaveOneOut, StratifiedKFold\n",
    "import pickle\n",
    "import os\n",
    "import joblib\n",
    "from sklearn.impute import SimpleImputer\n",
    "from sklearn.preprocessing import StandardScaler\n",
    "from sklearn.compose import ColumnTransformer"
   ]
  },
  {
   "cell_type": "markdown",
   "id": "8132fe2a",
   "metadata": {},
   "source": [
    "## Load raw data"
   ]
  },
  {
   "cell_type": "code",
   "execution_count": 2,
   "id": "2262362a",
   "metadata": {},
   "outputs": [],
   "source": [
    "config_file_path = 'data/config.csv'\n",
    "df_config = pd.read_csv(config_file_path)\n",
    "train_id = 0"
   ]
  },
  {
   "cell_type": "code",
   "execution_count": 3,
   "id": "103a1faa",
   "metadata": {},
   "outputs": [],
   "source": [
    "dev_social = pd.read_csv(os.path.join(df_config['processed_file_folder'][train_id],'dev_social.csv'))\n",
    "dev_personal = pd.read_csv(os.path.join(df_config['processed_file_folder'][train_id],'dev_personal.csv'))\n",
    "dev_clinical = pd.read_csv(os.path.join(df_config['processed_file_folder'][train_id],'dev_clinical.csv'))\n",
    "dev_pos_test = pd.read_csv(os.path.join(df_config['processed_file_folder'][train_id],'dev_pos_test.csv'))\n",
    "dev_target = pd.read_csv(os.path.join(df_config['processed_file_folder'][train_id],'dev_target.csv'))"
   ]
  },
  {
   "cell_type": "code",
   "execution_count": 4,
   "id": "f958fd1a",
   "metadata": {},
   "outputs": [
    {
     "name": "stdout",
     "output_type": "stream",
     "text": [
      "Dev. Social Data: (54, 13)\n",
      "Dev. Personal Data: (54, 10)\n",
      "Dev. Clinical Data: (54, 16)\n",
      "Dev. Pos-test Data: (54, 4)\n",
      "Dev. Target Data: (54, 1)\n"
     ]
    }
   ],
   "source": [
    "print('Dev. Social Data:', dev_social.shape)\n",
    "print('Dev. Personal Data:', dev_personal.shape)\n",
    "print('Dev. Clinical Data:', dev_clinical.shape)\n",
    "print('Dev. Pos-test Data:', dev_pos_test.shape)\n",
    "print('Dev. Target Data:',dev_target.shape)"
   ]
  },
  {
   "cell_type": "markdown",
   "id": "555022af",
   "metadata": {},
   "source": [
    "## Create on pipeline to each dataset\n",
    "\n",
    "the approach is very simple.\n",
    "\n",
    " 1 - split the dataset with different strategies: Leave One Out and k-Fold (5-folds),\n",
    " \n",
    " 2 - create one pipeline per fold in each strategy,\n",
    " \n",
    " 3 - save each pipeline with a specific name,"
   ]
  },
  {
   "cell_type": "code",
   "execution_count": 5,
   "id": "74cdf290",
   "metadata": {},
   "outputs": [],
   "source": [
    "datasets_data = [dev_social, dev_clinical, dev_pos_test, dev_personal]\n",
    "datasets_name = ['social', 'clinical', 'pos_test', 'personal']"
   ]
  },
  {
   "cell_type": "code",
   "execution_count": 6,
   "id": "74c4e528",
   "metadata": {},
   "outputs": [
    {
     "name": "stdout",
     "output_type": "stream",
     "text": [
      "Processing social\n",
      "Dataset shape: 54, 13\n",
      "Processing clinical\n",
      "Dataset shape: 54, 16\n",
      "Processing pos_test\n",
      "Dataset shape: 54, 4\n",
      "Processing personal\n",
      "Dataset shape: 54, 10\n"
     ]
    }
   ],
   "source": [
    "for idataset, dataset_name in enumerate(datasets_name): \n",
    "    print('Processing %s'%(dataset_name))\n",
    "    data = datasets_data[idataset]\n",
    "    print('Dataset shape: %i, %i'%(data.shape[0],data.shape[1]))\n",
    "    \n",
    "    imputer_strat = df_config['imputer_strat'][train_id]\n",
    "    \n",
    "    n_folds = df_config['cv_folds'][train_id]\n",
    "    \n",
    "    cv_path = df_config['cv_path'][train_id]\n",
    "    for ifold in range(n_folds):\n",
    "        cv_name = '%s_%s_CV_fold_%i_of_%i_cv_indexes.pkl'%(df_config['hash_id'][train_id],\n",
    "                                                             df_config['cv_alg'][train_id],\n",
    "                                                             ifold, n_folds)\n",
    "        with open(os.path.join(cv_path,cv_name),'rb') as file_handler:\n",
    "            [trn_idx,val_idx] = pickle.load(file_handler)\n",
    "            \n",
    "        if dataset_name != 'personal':\n",
    "            pipe = Pipeline(steps=[(\"imputer\", SimpleImputer(missing_values=np.nan, strategy=imputer_strat))])\n",
    "        else:\n",
    "            numeric_features = ['idade']\n",
    "            numeric_transformer = Pipeline(\n",
    "                steps=[(\"imputer\", SimpleImputer(strategy=\"mean\")), \n",
    "                       (\"scaler\", StandardScaler())]\n",
    "            )\n",
    "            categorical_features = ['sexo', 'est civil', 'estuda', \n",
    "                                    'escolaridade', 'emprego','hcw', \n",
    "                                    'renda', 'renda ant', 'inst chef']\n",
    "            categorical_transformer = Pipeline(steps=[(\"imputer\", SimpleImputer(missing_values=np.nan, \n",
    "                                                                                strategy=imputer_strat))])\n",
    "            preprocessor = ColumnTransformer(\n",
    "                transformers=[(\"num\", numeric_transformer, numeric_features),\n",
    "                              (\"cat\", categorical_transformer, categorical_features),\n",
    "                             ])\n",
    "            pipe = Pipeline(steps=[(\"preprocessor\", preprocessor)])\n",
    "        \n",
    "        pipe.fit(data.loc[trn_idx,:])\n",
    "        pipe_path = df_config['pipeline_path'][train_id]\n",
    "        pipe_name = '%s_%s_CV_fold_%i_of_%i_pipe_%s.jbl'%(df_config['hash_id'][train_id],\n",
    "                                                          df_config['cv_alg'][train_id],\n",
    "                                                          ifold, n_folds, \n",
    "                                                          datasets_name[idataset])\n",
    "        with open(os.path.join(pipe_path,pipe_name),'wb') as file_handler:\n",
    "            joblib.dump(pipe, file_handler)\n",
    "        "
   ]
  },
  {
   "cell_type": "code",
   "execution_count": 8,
   "id": "a323c4f9",
   "metadata": {},
   "outputs": [
    {
     "name": "stdout",
     "output_type": "stream",
     "text": [
      "Dataset: personal\n"
     ]
    },
    {
     "data": {
      "text/html": [
       "<style>#sk-container-id-1 {color: black;background-color: white;}#sk-container-id-1 pre{padding: 0;}#sk-container-id-1 div.sk-toggleable {background-color: white;}#sk-container-id-1 label.sk-toggleable__label {cursor: pointer;display: block;width: 100%;margin-bottom: 0;padding: 0.3em;box-sizing: border-box;text-align: center;}#sk-container-id-1 label.sk-toggleable__label-arrow:before {content: \"▸\";float: left;margin-right: 0.25em;color: #696969;}#sk-container-id-1 label.sk-toggleable__label-arrow:hover:before {color: black;}#sk-container-id-1 div.sk-estimator:hover label.sk-toggleable__label-arrow:before {color: black;}#sk-container-id-1 div.sk-toggleable__content {max-height: 0;max-width: 0;overflow: hidden;text-align: left;background-color: #f0f8ff;}#sk-container-id-1 div.sk-toggleable__content pre {margin: 0.2em;color: black;border-radius: 0.25em;background-color: #f0f8ff;}#sk-container-id-1 input.sk-toggleable__control:checked~div.sk-toggleable__content {max-height: 200px;max-width: 100%;overflow: auto;}#sk-container-id-1 input.sk-toggleable__control:checked~label.sk-toggleable__label-arrow:before {content: \"▾\";}#sk-container-id-1 div.sk-estimator input.sk-toggleable__control:checked~label.sk-toggleable__label {background-color: #d4ebff;}#sk-container-id-1 div.sk-label input.sk-toggleable__control:checked~label.sk-toggleable__label {background-color: #d4ebff;}#sk-container-id-1 input.sk-hidden--visually {border: 0;clip: rect(1px 1px 1px 1px);clip: rect(1px, 1px, 1px, 1px);height: 1px;margin: -1px;overflow: hidden;padding: 0;position: absolute;width: 1px;}#sk-container-id-1 div.sk-estimator {font-family: monospace;background-color: #f0f8ff;border: 1px dotted black;border-radius: 0.25em;box-sizing: border-box;margin-bottom: 0.5em;}#sk-container-id-1 div.sk-estimator:hover {background-color: #d4ebff;}#sk-container-id-1 div.sk-parallel-item::after {content: \"\";width: 100%;border-bottom: 1px solid gray;flex-grow: 1;}#sk-container-id-1 div.sk-label:hover label.sk-toggleable__label {background-color: #d4ebff;}#sk-container-id-1 div.sk-serial::before {content: \"\";position: absolute;border-left: 1px solid gray;box-sizing: border-box;top: 0;bottom: 0;left: 50%;z-index: 0;}#sk-container-id-1 div.sk-serial {display: flex;flex-direction: column;align-items: center;background-color: white;padding-right: 0.2em;padding-left: 0.2em;position: relative;}#sk-container-id-1 div.sk-item {position: relative;z-index: 1;}#sk-container-id-1 div.sk-parallel {display: flex;align-items: stretch;justify-content: center;background-color: white;position: relative;}#sk-container-id-1 div.sk-item::before, #sk-container-id-1 div.sk-parallel-item::before {content: \"\";position: absolute;border-left: 1px solid gray;box-sizing: border-box;top: 0;bottom: 0;left: 50%;z-index: -1;}#sk-container-id-1 div.sk-parallel-item {display: flex;flex-direction: column;z-index: 1;position: relative;background-color: white;}#sk-container-id-1 div.sk-parallel-item:first-child::after {align-self: flex-end;width: 50%;}#sk-container-id-1 div.sk-parallel-item:last-child::after {align-self: flex-start;width: 50%;}#sk-container-id-1 div.sk-parallel-item:only-child::after {width: 0;}#sk-container-id-1 div.sk-dashed-wrapped {border: 1px dashed gray;margin: 0 0.4em 0.5em 0.4em;box-sizing: border-box;padding-bottom: 0.4em;background-color: white;}#sk-container-id-1 div.sk-label label {font-family: monospace;font-weight: bold;display: inline-block;line-height: 1.2em;}#sk-container-id-1 div.sk-label-container {text-align: center;}#sk-container-id-1 div.sk-container {/* jupyter's `normalize.less` sets `[hidden] { display: none; }` but bootstrap.min.css set `[hidden] { display: none !important; }` so we also need the `!important` here to be able to override the default hidden behavior on the sphinx rendered scikit-learn.org. See: https://github.com/scikit-learn/scikit-learn/issues/21755 */display: inline-block !important;position: relative;}#sk-container-id-1 div.sk-text-repr-fallback {display: none;}</style><div id=\"sk-container-id-1\" class=\"sk-top-container\"><div class=\"sk-text-repr-fallback\"><pre>Pipeline(steps=[(&#x27;preprocessor&#x27;,\n",
       "                 ColumnTransformer(transformers=[(&#x27;num&#x27;,\n",
       "                                                  Pipeline(steps=[(&#x27;imputer&#x27;,\n",
       "                                                                   SimpleImputer()),\n",
       "                                                                  (&#x27;scaler&#x27;,\n",
       "                                                                   StandardScaler())]),\n",
       "                                                  [&#x27;idade&#x27;]),\n",
       "                                                 (&#x27;cat&#x27;,\n",
       "                                                  Pipeline(steps=[(&#x27;imputer&#x27;,\n",
       "                                                                   SimpleImputer(strategy=&#x27;most_frequent&#x27;))]),\n",
       "                                                  [&#x27;sexo&#x27;, &#x27;est civil&#x27;,\n",
       "                                                   &#x27;estuda&#x27;, &#x27;escolaridade&#x27;,\n",
       "                                                   &#x27;emprego&#x27;, &#x27;hcw&#x27;, &#x27;renda&#x27;,\n",
       "                                                   &#x27;renda ant&#x27;,\n",
       "                                                   &#x27;inst chef&#x27;])]))])</pre><b>In a Jupyter environment, please rerun this cell to show the HTML representation or trust the notebook. <br />On GitHub, the HTML representation is unable to render, please try loading this page with nbviewer.org.</b></div><div class=\"sk-container\" hidden><div class=\"sk-item sk-dashed-wrapped\"><div class=\"sk-label-container\"><div class=\"sk-label sk-toggleable\"><input class=\"sk-toggleable__control sk-hidden--visually\" id=\"sk-estimator-id-1\" type=\"checkbox\" ><label for=\"sk-estimator-id-1\" class=\"sk-toggleable__label sk-toggleable__label-arrow\">Pipeline</label><div class=\"sk-toggleable__content\"><pre>Pipeline(steps=[(&#x27;preprocessor&#x27;,\n",
       "                 ColumnTransformer(transformers=[(&#x27;num&#x27;,\n",
       "                                                  Pipeline(steps=[(&#x27;imputer&#x27;,\n",
       "                                                                   SimpleImputer()),\n",
       "                                                                  (&#x27;scaler&#x27;,\n",
       "                                                                   StandardScaler())]),\n",
       "                                                  [&#x27;idade&#x27;]),\n",
       "                                                 (&#x27;cat&#x27;,\n",
       "                                                  Pipeline(steps=[(&#x27;imputer&#x27;,\n",
       "                                                                   SimpleImputer(strategy=&#x27;most_frequent&#x27;))]),\n",
       "                                                  [&#x27;sexo&#x27;, &#x27;est civil&#x27;,\n",
       "                                                   &#x27;estuda&#x27;, &#x27;escolaridade&#x27;,\n",
       "                                                   &#x27;emprego&#x27;, &#x27;hcw&#x27;, &#x27;renda&#x27;,\n",
       "                                                   &#x27;renda ant&#x27;,\n",
       "                                                   &#x27;inst chef&#x27;])]))])</pre></div></div></div><div class=\"sk-serial\"><div class=\"sk-item sk-dashed-wrapped\"><div class=\"sk-label-container\"><div class=\"sk-label sk-toggleable\"><input class=\"sk-toggleable__control sk-hidden--visually\" id=\"sk-estimator-id-2\" type=\"checkbox\" ><label for=\"sk-estimator-id-2\" class=\"sk-toggleable__label sk-toggleable__label-arrow\">preprocessor: ColumnTransformer</label><div class=\"sk-toggleable__content\"><pre>ColumnTransformer(transformers=[(&#x27;num&#x27;,\n",
       "                                 Pipeline(steps=[(&#x27;imputer&#x27;, SimpleImputer()),\n",
       "                                                 (&#x27;scaler&#x27;, StandardScaler())]),\n",
       "                                 [&#x27;idade&#x27;]),\n",
       "                                (&#x27;cat&#x27;,\n",
       "                                 Pipeline(steps=[(&#x27;imputer&#x27;,\n",
       "                                                  SimpleImputer(strategy=&#x27;most_frequent&#x27;))]),\n",
       "                                 [&#x27;sexo&#x27;, &#x27;est civil&#x27;, &#x27;estuda&#x27;, &#x27;escolaridade&#x27;,\n",
       "                                  &#x27;emprego&#x27;, &#x27;hcw&#x27;, &#x27;renda&#x27;, &#x27;renda ant&#x27;,\n",
       "                                  &#x27;inst chef&#x27;])])</pre></div></div></div><div class=\"sk-parallel\"><div class=\"sk-parallel-item\"><div class=\"sk-item\"><div class=\"sk-label-container\"><div class=\"sk-label sk-toggleable\"><input class=\"sk-toggleable__control sk-hidden--visually\" id=\"sk-estimator-id-3\" type=\"checkbox\" ><label for=\"sk-estimator-id-3\" class=\"sk-toggleable__label sk-toggleable__label-arrow\">num</label><div class=\"sk-toggleable__content\"><pre>[&#x27;idade&#x27;]</pre></div></div></div><div class=\"sk-serial\"><div class=\"sk-item\"><div class=\"sk-serial\"><div class=\"sk-item\"><div class=\"sk-estimator sk-toggleable\"><input class=\"sk-toggleable__control sk-hidden--visually\" id=\"sk-estimator-id-4\" type=\"checkbox\" ><label for=\"sk-estimator-id-4\" class=\"sk-toggleable__label sk-toggleable__label-arrow\">SimpleImputer</label><div class=\"sk-toggleable__content\"><pre>SimpleImputer()</pre></div></div></div><div class=\"sk-item\"><div class=\"sk-estimator sk-toggleable\"><input class=\"sk-toggleable__control sk-hidden--visually\" id=\"sk-estimator-id-5\" type=\"checkbox\" ><label for=\"sk-estimator-id-5\" class=\"sk-toggleable__label sk-toggleable__label-arrow\">StandardScaler</label><div class=\"sk-toggleable__content\"><pre>StandardScaler()</pre></div></div></div></div></div></div></div></div><div class=\"sk-parallel-item\"><div class=\"sk-item\"><div class=\"sk-label-container\"><div class=\"sk-label sk-toggleable\"><input class=\"sk-toggleable__control sk-hidden--visually\" id=\"sk-estimator-id-6\" type=\"checkbox\" ><label for=\"sk-estimator-id-6\" class=\"sk-toggleable__label sk-toggleable__label-arrow\">cat</label><div class=\"sk-toggleable__content\"><pre>[&#x27;sexo&#x27;, &#x27;est civil&#x27;, &#x27;estuda&#x27;, &#x27;escolaridade&#x27;, &#x27;emprego&#x27;, &#x27;hcw&#x27;, &#x27;renda&#x27;, &#x27;renda ant&#x27;, &#x27;inst chef&#x27;]</pre></div></div></div><div class=\"sk-serial\"><div class=\"sk-item\"><div class=\"sk-serial\"><div class=\"sk-item\"><div class=\"sk-estimator sk-toggleable\"><input class=\"sk-toggleable__control sk-hidden--visually\" id=\"sk-estimator-id-7\" type=\"checkbox\" ><label for=\"sk-estimator-id-7\" class=\"sk-toggleable__label sk-toggleable__label-arrow\">SimpleImputer</label><div class=\"sk-toggleable__content\"><pre>SimpleImputer(strategy=&#x27;most_frequent&#x27;)</pre></div></div></div></div></div></div></div></div></div></div></div></div></div></div>"
      ],
      "text/plain": [
       "Pipeline(steps=[('preprocessor',\n",
       "                 ColumnTransformer(transformers=[('num',\n",
       "                                                  Pipeline(steps=[('imputer',\n",
       "                                                                   SimpleImputer()),\n",
       "                                                                  ('scaler',\n",
       "                                                                   StandardScaler())]),\n",
       "                                                  ['idade']),\n",
       "                                                 ('cat',\n",
       "                                                  Pipeline(steps=[('imputer',\n",
       "                                                                   SimpleImputer(strategy='most_frequent'))]),\n",
       "                                                  ['sexo', 'est civil',\n",
       "                                                   'estuda', 'escolaridade',\n",
       "                                                   'emprego', 'hcw', 'renda',\n",
       "                                                   'renda ant',\n",
       "                                                   'inst chef'])]))])"
      ]
     },
     "execution_count": 8,
     "metadata": {},
     "output_type": "execute_result"
    }
   ],
   "source": [
    "train_id = 0\n",
    "ifold = 1\n",
    "idataset = 3\n",
    "print(\"Dataset: %s\"%(datasets_name[idataset]))\n",
    "n_folds = df_config['cv_folds'][train_id]\n",
    "pipe_path = df_config['pipeline_path'][train_id]\n",
    "pipe_name = '%s_%s_CV_fold_%i_of_%i_pipe_%s.jbl'%(df_config['hash_id'][train_id],\n",
    "                                                  df_config['cv_alg'][train_id],\n",
    "                                                  ifold, n_folds, \n",
    "                                                  datasets_name[idataset])\n",
    "with open(os.path.join(pipe_path,pipe_name),'rb') as file_handler:\n",
    "    pipe = joblib.load(file_handler)\n",
    "pipe"
   ]
  },
  {
   "cell_type": "code",
   "execution_count": null,
   "id": "81c4b57c",
   "metadata": {},
   "outputs": [],
   "source": []
  }
 ],
 "metadata": {
  "kernelspec": {
   "display_name": "Python 3",
   "language": "python",
   "name": "python3"
  },
  "language_info": {
   "codemirror_mode": {
    "name": "ipython",
    "version": 3
   },
   "file_extension": ".py",
   "mimetype": "text/x-python",
   "name": "python",
   "nbconvert_exporter": "python",
   "pygments_lexer": "ipython3",
   "version": "3.8.10"
  }
 },
 "nbformat": 4,
 "nbformat_minor": 5
}
