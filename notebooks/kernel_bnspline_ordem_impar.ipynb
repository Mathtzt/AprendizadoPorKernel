{
 "cells": [
  {
   "cell_type": "markdown",
   "id": "4d6d6c9f",
   "metadata": {},
   "source": [
    "### Bibliotecas"
   ]
  },
  {
   "cell_type": "code",
   "execution_count": null,
   "id": "97c66f99",
   "metadata": {},
   "outputs": [],
   "source": [
    "import numpy as np\n",
    "import matplotlib.pyplot as plt\n",
    "from sklearn.datasets import make_moons, load_iris\n",
    "from sklearn.preprocessing import StandardScaler\n",
    "from sklearn.svm import SVC\n",
    "from sklearn.kernel_approximation import PolynomialCountSketch\n",
    "\n",
    "from sklearn.pipeline import Pipeline\n",
    "from sklearn.base import BaseEstimator, TransformerMixin\n",
    "from scipy import special"
   ]
  },
  {
   "cell_type": "markdown",
   "id": "b3e97fa4",
   "metadata": {},
   "source": [
    "### Configurações gerais"
   ]
  },
  {
   "cell_type": "code",
   "execution_count": null,
   "id": "31df9885",
   "metadata": {},
   "outputs": [],
   "source": [
    "# Paleta de cor\n",
    "cmap = plt.cm.Set3"
   ]
  },
  {
   "cell_type": "markdown",
   "id": "69b4dbfd",
   "metadata": {},
   "source": [
    "### Gerando dados aleatórios - Toy data"
   ]
  },
  {
   "cell_type": "code",
   "execution_count": null,
   "id": "c470511d",
   "metadata": {},
   "outputs": [],
   "source": [
    "## Não funciona bem com esse kernel - Teste\n",
    "#X, y = make_moons(n_samples=500, noise=0.08)\n",
    "\n",
    "iris = load_iris()\n",
    "X = iris.data[:, 2:] # Pegando as duas primeiras características\n",
    "y = iris.target"
   ]
  },
  {
   "cell_type": "markdown",
   "id": "422c24a3",
   "metadata": {},
   "source": [
    "### Plotando as amostras como pontos em um gráfico bidimensional"
   ]
  },
  {
   "cell_type": "code",
   "execution_count": null,
   "id": "fbebf90f",
   "metadata": {},
   "outputs": [],
   "source": [
    "plt.scatter(X[:, 0], X[:, 1], c=y, cmap=cmap)\n",
    "plt.xlabel('Característica 1')\n",
    "plt.ylabel('Característica 2')\n",
    "plt.title('Conjunto de Dados de Classificação')\n",
    "plt.show()"
   ]
  },
  {
   "cell_type": "markdown",
   "id": "9200547e",
   "metadata": {},
   "source": [
    "### Pre-processamento"
   ]
  },
  {
   "cell_type": "code",
   "execution_count": null,
   "id": "6a4c2d7e",
   "metadata": {},
   "outputs": [],
   "source": [
    "# Escalando os dados\n",
    "scaler = StandardScaler()\n",
    "X = scaler.fit_transform(X)"
   ]
  },
  {
   "cell_type": "markdown",
   "id": "84b7f45c-ca1e-4627-aa22-d161d3b7a825",
   "metadata": {
    "tags": []
   },
   "source": [
    "### Kernel bns_odd_kernel - NumPy"
   ]
  },
  {
   "cell_type": "code",
   "execution_count": null,
   "id": "f0c17b6b-4ceb-406c-8df1-3f8991c17f73",
   "metadata": {},
   "outputs": [],
   "source": [
    "class BnSplineOddKernel(BaseEstimator, TransformerMixin):\n",
    "    \"\"\"\n",
    "    Implementação do kernel Bn-Spline de ordem ímpar para uso com o Scikit-learn.\n",
    "    \"\"\"\n",
    "    def __init__(self, n):\n",
    "        \"\"\"\n",
    "        n é o grau do polinômio de spline.\n",
    "        \"\"\"\n",
    "        self.n = n\n",
    "        \n",
    "    def fit(self, X, y=None):\n",
    "        \"\"\"\n",
    "        Ajusta o modelo aos dados de treinamento.\n",
    "        \"\"\"\n",
    "        self.X = X\n",
    "        return self\n",
    "        \n",
    "    def transform(self, X):\n",
    "        \"\"\"\n",
    "        Transforma os dados de entrada no espaço de características.\n",
    "        \"\"\"\n",
    "        K = np.zeros((len(X), len(self.X)))\n",
    "        for i, x in enumerate(X):\n",
    "            for j, y in enumerate(self.X):\n",
    "                K[i, j] = self._bns_odd_kernel(x, y, self.n)\n",
    "        return K\n",
    "    \n",
    "    def _bns_odd_kernel(self, X, Y, n):\n",
    "        \"\"\"\n",
    "        Calcula o kernel Bn-Spline de ordem ímpar entre os vetores X e Y.\n",
    "        \"\"\"\n",
    "        s = 0\n",
    "        for k in range(n + 1):\n",
    "            s += ((-1)**k * special.comb(n + 1, k) * special.comb(2*n + 1 - 2*k, n) *\n",
    "                  np.sum(np.minimum(X, Y)**(2*n + 1 - 2*k) * np.maximum(X, Y)**(2*k - n - 1)))\n",
    "        return s"
   ]
  },
  {
   "cell_type": "code",
   "execution_count": null,
   "id": "b42c4cb6",
   "metadata": {},
   "outputs": [],
   "source": [
    "# Define o pipeline de transformação e modelo de classificação\n",
    "model = Pipeline([\n",
    "    ('transformer', BnSplineOddKernel(n=3)),\n",
    "    ('classifier', SVC(kernel='precomputed'))\n",
    "])\n",
    "\n",
    "X_train_transformed = model['transformer'].fit_transform(X)"
   ]
  },
  {
   "cell_type": "code",
   "execution_count": null,
   "id": "e210f961",
   "metadata": {},
   "outputs": [],
   "source": [
    "# Treinando o modelo\n",
    "model['classifier'].fit(X_train_transformed, y)"
   ]
  },
  {
   "cell_type": "markdown",
   "id": "2b552be8",
   "metadata": {},
   "source": [
    "### Visualizando fronteira de decisão"
   ]
  },
  {
   "cell_type": "code",
   "execution_count": null,
   "id": "24e2478e-f943-42a0-906a-db69536f9e4e",
   "metadata": {},
   "outputs": [],
   "source": [
    "# Define os limites do gráfico\n",
    "x_min, x_max = X[:, 0].min() - 1, X[:, 0].max() + 1\n",
    "y_min, y_max = X[:, 1].min() - 1, X[:, 1].max() + 1\n",
    "xx, yy = np.meshgrid(np.arange(x_min, x_max, 0.02), np.arange(y_min, y_max, 0.02))\n",
    "\n",
    "# Faz previsões em toda a região do gráfico\n",
    "Z = model.predict(model['transformer'].transform(np.c_[xx.ravel(), yy.ravel()]))\n",
    "Z = Z.reshape(xx.shape)\n",
    "\n",
    "# Plota a região de decisão e os pontos de treinamento\n",
    "plt.contourf(xx, yy, Z, cmap=plt.cm.coolwarm, alpha=0.5)\n",
    "plt.scatter(X[:, 0], X[:, 1], c=y, cmap=cmap)\n",
    "plt.xlabel('Característica 1')\n",
    "plt.ylabel('Característica 2')\n",
    "plt.title(f'Fronteira de Decisão com Kernel Bn-Spline')\n",
    "plt.show()"
   ]
  }
 ],
 "metadata": {
  "kernelspec": {
   "display_name": "Python 3 (ipykernel)",
   "language": "python",
   "name": "python3"
  },
  "language_info": {
   "codemirror_mode": {
    "name": "ipython",
    "version": 3
   },
   "file_extension": ".py",
   "mimetype": "text/x-python",
   "name": "python",
   "nbconvert_exporter": "python",
   "pygments_lexer": "ipython3",
   "version": "3.9.14"
  }
 },
 "nbformat": 4,
 "nbformat_minor": 5
}
